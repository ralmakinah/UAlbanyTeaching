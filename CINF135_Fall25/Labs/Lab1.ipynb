{
 "cells": [
  {
   "cell_type": "markdown",
   "metadata": {
    "id": "PTq4mBgr8aGI"
   },
   "source": [
    "# Lab #1 \n",
    "[![Open In Colab](https://colab.research.google.com/assets/colab-badge.svg)](\n",
    "https://colab.research.google.com/github/blob/ralmakinah/UAlbanyTeaching/CINF135_Fall2025/Labs/Lab1.ipynb)"
   ]
  },
  {
   "cell_type": "code",
   "execution_count": null,
   "metadata": {
    "id": "NgzHPX5c8dED"
   },
   "outputs": [],
   "source": [
    "# CINF 135 | First Lab.\n",
    "\n",
    "# --------------------------------\n",
    "\n",
    "# --- Colab Setup: ensure data is available and environment is consistent ---\n",
    "from pathlib import Path\n",
    "# !pip -q install --upgrade numpy pandas matplotlib scikit-learn\n",
    "\n",
    "data_dir = Path(\"data\")\n",
    "data_dir.mkdir(exist_ok=True)\n",
    "csv_path = data_dir / \"iris_dataset.csv\"\n",
    "\n",
    "if not csv_path.exists():\n",
    "    # auto-create iris CSV if it's not in the repo\n",
    "    from sklearn.datasets import load_iris\n",
    "    import pandas as pd\n",
    "    iris = load_iris(as_frame=True)\n",
    "    iris.frame.to_csv(csv_path, index=False)\n",
    "\n",
    "print(\"Data prepared at:\", csv_path.resolve())\n"
   ]
  },
  {
   "cell_type": "code",
   "execution_count": null,
   "metadata": {
    "id": "bVxcnucW8aGK"
   },
   "outputs": [],
   "source": [
    "print(\"Hello CINF135!\")"
   ]
  },
  {
   "cell_type": "code",
   "execution_count": null,
   "metadata": {
    "id": "Eq8xQUTj8aGK"
   },
   "outputs": [],
   "source": [
    "!python3 -V"
   ]
  },
  {
   "cell_type": "code",
   "execution_count": null,
   "metadata": {
    "id": "FpYyEBoR8aGL"
   },
   "outputs": [],
   "source": [
    "import numpy\n",
    "\n",
    "x = numpy.array([1,2,3,4])\n",
    "\n",
    "print(x)"
   ]
  },
  {
   "cell_type": "code",
   "execution_count": null,
   "metadata": {},
   "outputs": [],
   "source": [
    "print(x[3])"
   ]
  },
  {
   "cell_type": "code",
   "execution_count": null,
   "metadata": {
    "id": "zo216IzM8aGL"
   },
   "outputs": [],
   "source": [
    "import pandas as pd\n",
    "\n",
    "df = pd.read_csv('data/iris_dataset.csv')\n",
    "df.head()"
   ]
  },
  {
   "cell_type": "code",
   "execution_count": null,
   "metadata": {
    "id": "4uXR_Ebq8aGL"
   },
   "outputs": [],
   "source": [
    "df.tail()"
   ]
  },
  {
   "cell_type": "code",
   "execution_count": null,
   "metadata": {
    "id": "A3ibXz6k8aGL"
   },
   "outputs": [],
   "source": [
    "df.info()"
   ]
  },
  {
   "cell_type": "code",
   "execution_count": null,
   "metadata": {
    "id": "V6j_oBN48aGL"
   },
   "outputs": [],
   "source": [
    "df.describe()"
   ]
  },
  {
   "cell_type": "code",
   "execution_count": null,
   "metadata": {
    "id": "eqwGf-GJ8aGM"
   },
   "outputs": [],
   "source": [
    "import matplotlib.pyplot as plt\n",
    "\n",
    "plt.hist(df['sepal length (cm)'], bins=30)\n",
    "plt.show()"
   ]
  }
 ],
 "metadata": {
  "colab": {
   "provenance": []
  },
  "kernelspec": {
   "display_name": "Python 3 (ipykernel)",
   "language": "python",
   "name": "python3"
  },
  "language_info": {
   "codemirror_mode": {
    "name": "ipython",
    "version": 3
   },
   "file_extension": ".py",
   "mimetype": "text/x-python",
   "name": "python",
   "nbconvert_exporter": "python",
   "pygments_lexer": "ipython3",
   "version": "3.11.5"
  }
 },
 "nbformat": 4,
 "nbformat_minor": 1
}

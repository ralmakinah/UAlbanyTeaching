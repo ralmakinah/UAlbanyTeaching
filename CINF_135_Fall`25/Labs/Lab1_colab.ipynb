{
  "cells": [
    {
      "cell_type": "markdown",
      "id": "df94b46e",
      "metadata": {},
      "source": [
        "# Lab 1 — Intro\n",
        "[![Open In Colab](https://colab.research.google.com/assets/colab-badge.svg)](https://colab.research.google.com/github/ralmakinah/UAlbanyTeaching/blob/main/CINF_135_Fall%6025/Labs/Lab1_colab.ipynb)\n",
        "\n",
        "This notebook is adapted for Google Colab. Students can run it directly and save their own copy via **File → Save a copy in Drive**.\n"
      ]
    },
    {
      "cell_type": "code",
      "execution_count": null,
      "id": "5a56b2be",
      "metadata": {},
      "outputs": [],
      "source": [
        "# --- Colab Setup: ensure data is available and environment is consistent ---\n",
        "import os\n",
        "from pathlib import Path\n",
        "\n",
        "# Optional: pin lightweight versions if needed (commented out by default)\n",
        "# !pip -q install --upgrade numpy pandas matplotlib scikit-learn\n",
        "\n",
        "data_dir = Path(\"data\")\n",
        "data_dir.mkdir(exist_ok=True)\n",
        "csv_path = data_dir / \"iris_dataset.csv\"\n",
        "\n",
        "if not csv_path.exists():\n",
        "    from sklearn.datasets import load_iris\n",
        "    import pandas as pd\n",
        "    iris = load_iris(as_frame=True)\n",
        "    df_iris = iris.frame\n",
        "    df_iris.to_csv(csv_path, index=False)\n",
        "\n",
        "print(\"Data prepared at:\", csv_path.resolve())"
      ]
    },
    {
      "cell_type": "code",
      "execution_count": null,
      "id": "b53f2b19",
      "metadata": {},
      "outputs": [],
      "source": [
        "!python3 -V"
      ]
    },
    {
      "cell_type": "code",
      "execution_count": null,
      "id": "8597bfa1",
      "metadata": {},
      "outputs": [],
      "source": [
        "import numpy as np\n",
        "import pandas as pd\n",
        "import matplotlib.pyplot as plt"
      ]
    },
    {
      "cell_type": "code",
      "execution_count": null,
      "id": "a1a0ec71",
      "metadata": {},
      "outputs": [],
      "source": [
        "iris = pd.read_csv('data/iris_dataset.csv')\n",
        "iris.head()"
      ]
    }
  ],
  "metadata": {
    "kernelspec": {
      "display_name": "Python 3",
      "language": "python",
      "name": "python3"
    },
    "language_info": {
      "codemirror_mode": {
        "name": "ipython",
        "version": 3
      },
      "file_extension": ".py",
      "mimetype": "text/x-python",
      "name": "python",
      "nbconvert_exporter": "python",
      "pygments_lexer": "ipython3",
      "version": "3.10"
    }
  },
  "nbformat": 4,
  "nbformat_minor": 5
}

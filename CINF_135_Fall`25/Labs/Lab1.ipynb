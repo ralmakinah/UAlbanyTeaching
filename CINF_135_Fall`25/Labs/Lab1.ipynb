{
  "cells": [
    {
      "cell_type": "markdown",
      "metadata": {
        "id": "PTq4mBgr8aGI"
      },
      "source": [
        "# Lab #1"
      ]
    },
    {
      "cell_type": "markdown",
      "source": [
        "# Lab 1 — Intro\n",
        "[![Open In Colab](https://colab.research.google.com/assets/colab-badge.svg)](\n",
        "https://colab.research.google.com/github/ralmakinah/UAlbanyTeaching/blob/main/CINF_135%6025/Labs/Lab1_colab.ipynb)"
      ],
      "metadata": {
        "id": "IMR2mmXB8-4G"
      }
    },
    {
      "cell_type": "code",
      "source": [
        "# --- Colab Setup: ensure data is available and environment is consistent ---\n",
        "from pathlib import Path\n",
        "\n",
        "# Optional: pin versions if you need reproducibility\n",
        "# !pip -q install --upgrade numpy pandas matplotlib scikit-learn\n",
        "\n",
        "data_dir = Path(\"data\")\n",
        "data_dir.mkdir(exist_ok=True)\n",
        "csv_path = data_dir / \"iris_dataset.csv\"\n",
        "\n",
        "if not csv_path.exists():\n",
        "    # auto-create iris CSV if it's not in the repo\n",
        "    from sklearn.datasets import load_iris\n",
        "    import pandas as pd\n",
        "    iris = load_iris(as_frame=True)\n",
        "    iris.frame.to_csv(csv_path, index=False)\n",
        "\n",
        "print(\"Data prepared at:\", csv_path.resolve())\n"
      ],
      "metadata": {
        "id": "NgzHPX5c8dED"
      },
      "execution_count": null,
      "outputs": []
    },
    {
      "cell_type": "code",
      "execution_count": null,
      "metadata": {
        "id": "bVxcnucW8aGK"
      },
      "outputs": [],
      "source": [
        "print(\"Hello CINF135!\")"
      ]
    },
    {
      "cell_type": "code",
      "execution_count": null,
      "metadata": {
        "id": "Eq8xQUTj8aGK"
      },
      "outputs": [],
      "source": [
        "!python3 -V"
      ]
    },
    {
      "cell_type": "code",
      "execution_count": null,
      "metadata": {
        "id": "FpYyEBoR8aGL"
      },
      "outputs": [],
      "source": [
        "import numpy\n",
        "\n",
        "x = numpy.array([1,2,3,4])\n",
        "\n",
        "print(x)"
      ]
    },
    {
      "cell_type": "code",
      "execution_count": null,
      "metadata": {
        "id": "zo216IzM8aGL"
      },
      "outputs": [],
      "source": [
        "import pandas as pd\n",
        "\n",
        "df = pd.read_csv('data/iris_dataset.csv')\n",
        "df.head()"
      ]
    },
    {
      "cell_type": "code",
      "execution_count": null,
      "metadata": {
        "id": "4uXR_Ebq8aGL"
      },
      "outputs": [],
      "source": [
        "df.tail()"
      ]
    },
    {
      "cell_type": "code",
      "execution_count": null,
      "metadata": {
        "id": "A3ibXz6k8aGL"
      },
      "outputs": [],
      "source": [
        "df.info()"
      ]
    },
    {
      "cell_type": "code",
      "execution_count": null,
      "metadata": {
        "id": "V6j_oBN48aGL"
      },
      "outputs": [],
      "source": [
        "df.describe()"
      ]
    },
    {
      "cell_type": "code",
      "execution_count": null,
      "metadata": {
        "id": "eqwGf-GJ8aGM"
      },
      "outputs": [],
      "source": [
        "import matplotlib.pyplot as plt\n",
        "\n",
        "plt.hist(df['sepal length (cm)'], bins=30)\n",
        "plt.show()"
      ]
    }
  ],
  "metadata": {
    "kernelspec": {
      "display_name": "venv",
      "language": "python",
      "name": "python3"
    },
    "language_info": {
      "codemirror_mode": {
        "name": "ipython",
        "version": 3
      },
      "file_extension": ".py",
      "mimetype": "text/x-python",
      "name": "python",
      "nbconvert_exporter": "python",
      "pygments_lexer": "ipython3",
      "version": "3.0.0"
    },
    "colab": {
      "provenance": []
    }
  },
  "nbformat": 4,
  "nbformat_minor": 0
}